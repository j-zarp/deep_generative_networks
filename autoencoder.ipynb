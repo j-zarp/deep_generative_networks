{
 "cells": [
  {
   "cell_type": "code",
   "execution_count": null,
   "metadata": {
    "collapsed": false
   },
   "outputs": [],
   "source": [
    "import numpy as np\n",
    "np.random.seed(123)\n",
    "\n",
    "import os\n",
    "from keras.models import Model\n",
    "from keras.layers import Input, Convolution2D, MaxPooling2D, BatchNormalization\n",
    "from keras.layers import Flatten, Dense, Reshape, UpSampling2D\n",
    "from keras.utils.layer_utils import print_summary\n",
    "\n",
    "import cv2\n",
    "import h5py\n",
    "\n",
    "import matplotlib.pyplot as plt\n",
    "%matplotlib inline"
   ]
  },
  {
   "cell_type": "code",
   "execution_count": null,
   "metadata": {
    "collapsed": false
   },
   "outputs": [],
   "source": [
    "def autoencoder(weights_path=None):\n",
    "    # encoder\n",
    "    inputs = Input(shape=(3,224,224), name='input')\n",
    "    \n",
    "    enc1 = Convolution2D(32, 3, 3, activation='relu')(inputs)\n",
    "    enc1 = BatchNormalization(mode = 0 , axis = 1)(enc1)\n",
    "    enc1 = Convolution2D(32, 3, 3, activation='relu')(enc1)\n",
    "    enc1 = BatchNormalization(mode = 0 , axis = 1)(enc1)\n",
    "    enc1 = MaxPooling2D((2,2), strides=(2,2))(enc1)\n",
    "    \n",
    "    enc2 = Convolution2D(64, 3, 3, activation='relu')(enc1)\n",
    "    enc2 = BatchNormalization(mode = 0 , axis = 1)(enc2)\n",
    "    enc2 = Convolution2D(64, 3, 3, activation='relu')(enc2)\n",
    "    enc2 = BatchNormalization(mode = 0 , axis = 1)(enc2)\n",
    "    enc2 = MaxPooling2D((2,2), strides=(2,2))(enc2)\n",
    "    \n",
    "    enc3 = Convolution2D(128, 3, 3, activation='relu')(enc2)\n",
    "    enc3 = BatchNormalization(mode = 0 , axis = 1)(enc3)\n",
    "    enc3 = Convolution2D(128, 3, 3, activation='relu')(enc3)\n",
    "    enc3 = BatchNormalization(mode = 0 , axis = 1)(enc3)\n",
    "    enc3 = MaxPooling2D((2,2), strides=(2,2))(enc3)\n",
    "    \n",
    "    enc4 = Convolution2D(256, 3, 3, activation='relu')(enc3)\n",
    "    enc4 = BatchNormalization(mode = 0 , axis = 1)(enc4)\n",
    "    enc4 = Convolution2D(256, 3, 3, activation='relu')(enc4)\n",
    "    enc4 = BatchNormalization(mode = 0 , axis = 1)(enc4)\n",
    "    enc4 = MaxPooling2D((2,2), strides=(2,2))(enc4)\n",
    "    \n",
    "    enc5 = Convolution2D(512, 3, 3, activation='relu')(enc4)\n",
    "    enc5 = BatchNormalization(mode = 0 , axis = 1)(enc5)\n",
    "    enc5 = Convolution2D(512, 3, 3, activation='relu')(enc5)\n",
    "    enc5 = BatchNormalization(mode = 0 , axis = 1)(enc5)\n",
    "    enc5 = MaxPooling2D((2,2), strides=(2,2))(enc5)\n",
    "    \n",
    "    enc6 = Flatten()(enc5)\n",
    "    enc6 = Dense(2048, activation='relu')(enc6)\n",
    "    enc6 = Dense(5*5*128, activation='linear', name='encoded_img')(enc6)\n",
    "    \n",
    "    # decoder (generator)\n",
    "    g2 = Reshape((128,5,5))(enc6)\n",
    "    \n",
    "    g3 = UpSampling2D(size=(2, 2))(g2) # 10x10\n",
    "    g3 = Convolution2D(512,2,2,activation='relu',border_mode='valid')(g3) # 9x9\n",
    "    g3 = BatchNormalization(mode = 0 , axis = 1)(g3)\n",
    "    g3 = Convolution2D(512,2,2,activation='relu',border_mode='same')(g3) # 9x9\n",
    "    g3 = BatchNormalization(mode = 0 , axis = 1)(g3)\n",
    "    \n",
    "    g4 = UpSampling2D(size=(2, 2))(g3) # 18x18\n",
    "    g4 = Convolution2D(256,3,3,activation='relu',border_mode='valid')(g4) # 16x16\n",
    "    g4 = BatchNormalization(mode = 0 , axis = 1)(g4)\n",
    "    g4 = Convolution2D(256,3,3,activation='relu',border_mode='same')(g4) # 16x16\n",
    "    g4 = BatchNormalization(mode = 0 , axis = 1)(g4)\n",
    "    \n",
    "    g5 = UpSampling2D(size=(2, 2))(g4) # 32x32\n",
    "    g5 = Convolution2D(256,3,3,activation='relu',border_mode='valid')(g5)# 30x30\n",
    "    g5 = BatchNormalization(mode = 0 , axis = 1)(g5)\n",
    "    g5 = Convolution2D(256,3,3,activation='relu',border_mode='same')(g5) # 30x30\n",
    "    g5 = BatchNormalization(mode = 0 , axis = 1)(g5)\n",
    "    \n",
    "    g6 = UpSampling2D(size=(2, 2))(g5) # 60x60\n",
    "    g6 = Convolution2D(128,3,3,activation='relu',border_mode='valid')(g6) # 58x58\n",
    "    g6 = BatchNormalization(mode = 0 , axis = 1)(g6)\n",
    "    g6 = Convolution2D(128,3,3,activation='relu',border_mode='same')(g6) # 58x58\n",
    "    g6 = BatchNormalization(mode = 0 , axis = 1)(g6)\n",
    "    \n",
    "    g7 = UpSampling2D(size=(2, 2))(g6) # 116x116\n",
    "    g7 = Convolution2D(128,4,4,activation='relu',border_mode='valid')(g7) # 113x113\n",
    "    g7 = BatchNormalization(mode = 0 , axis = 1)(g7)\n",
    "    g7 = Convolution2D(128,4,4,activation='relu',border_mode='same')(g7) # 113x113\n",
    "    g7 = BatchNormalization(mode = 0 , axis = 1)(g7)\n",
    "    \n",
    "    g8 = UpSampling2D(size=(2, 2))(g7) # 226x226\n",
    "    g8 = Convolution2D(64,3,3,activation='relu',border_mode='valid')(g8) # 224x224\n",
    "    g8 = BatchNormalization(mode = 0 , axis = 1)(g8)\n",
    "    g8 = Convolution2D(64,3,3,activation='relu',border_mode='same')(g8) # 224x224\n",
    "    g8 = BatchNormalization(mode = 0 , axis = 1)(g8)\n",
    "    g8 = Convolution2D(3,3,3,activation='relu',border_mode='same')(g8) # 224x224\n",
    "    g8 = BatchNormalization(mode = 0, axis = 1, name='image')(g8)\n",
    "    \n",
    "    return Model(input=inputs, output=[g8,enc6])\n",
    "\n",
    "\n",
    "# compile model\n",
    "model = autoencoder()\n",
    "print_summary(model.layers)\n",
    "model.compile(optimizer='adadelta', loss='mean_squared_error')"
   ]
  },
  {
   "cell_type": "code",
   "execution_count": null,
   "metadata": {
    "collapsed": true
   },
   "outputs": [],
   "source": [
    "def transform_image(im):\n",
    "    im = cv2.cvtColor(im.astype(np.uint8), cv2.COLOR_RGB2BGR)\n",
    "    im = im.astype(np.float32)\n",
    "    im[:,:,0] -= 103.939\n",
    "    im[:,:,1] -= 116.779\n",
    "    im[:,:,2] -= 123.68\n",
    "    im = im.transpose((2,0,1))\n",
    "    im = np.expand_dims(im, axis=0)\n",
    "    return im\n",
    "\n",
    "def reconstruct_image(im):\n",
    "    im2 = np.squeeze(im)*1\n",
    "    im2 = im2.transpose((1,2,0))\n",
    "    im2[:,:,0] += 103.939\n",
    "    im2[:,:,1] += 116.779\n",
    "    im2[:,:,2] += 123.68\n",
    "    im2 = im2.astype(np.uint8)\n",
    "    return cv2.cvtColor(im2,cv2.COLOR_BGR2RGB)"
   ]
  },
  {
   "cell_type": "code",
   "execution_count": null,
   "metadata": {
    "collapsed": false
   },
   "outputs": [],
   "source": [
    "# get all images and corresponding filter responses\n",
    "path_all = 'n02084071/'\n",
    "f_imgs = os.listdir(path_all)\n",
    "train_pics = []\n",
    "for i, pic in enumerate(f_imgs):\n",
    "    img = cv2.resize(cv2.imread(path_all+pic), (224, 224)).astype(np.float32)\n",
    "    img = cv2.cvtColor(img.astype(np.uint8), cv2.COLOR_BGR2RGB)\n",
    "    img = transform_image(img)\n",
    "    train_pics.append(img)\n",
    "    \n",
    "train_pics = np.squeeze(np.array(train_pics))\n",
    "dummy_labels = np.zeros(shape=(len(f_imgs),5*5*128))"
   ]
  },
  {
   "cell_type": "code",
   "execution_count": null,
   "metadata": {
    "collapsed": false,
    "scrolled": true
   },
   "outputs": [],
   "source": [
    "# train auto-encoder\n",
    "model.fit(train_pics, [train_pics,dummy_labels], nb_epoch=400, batch_size=24, class_weight=[1.,0.])"
   ]
  },
  {
   "cell_type": "code",
   "execution_count": null,
   "metadata": {
    "collapsed": false
   },
   "outputs": [],
   "source": [
    "# test\n",
    "idx = np.random.choice(train_pics.shape[0])\n",
    "pic = train_pics[idx:idx+1]\n",
    "out = model.predict(pic)\n",
    "\n",
    "code = np.squeeze(out[1])\n",
    "print('code: ',code)\n",
    "plt.figure()\n",
    "plt.plot(code)\n",
    "plt.show()\n",
    "\n",
    "plt.figure(figsize=(10,10))\n",
    "plt.subplot(1,2,1)\n",
    "plt.imshow(reconstruct_image(pic))\n",
    "plt.subplot(1,2,2)\n",
    "plt.imshow(reconstruct_image(out[0]))\n",
    "plt.show()"
   ]
  },
  {
   "cell_type": "code",
   "execution_count": null,
   "metadata": {
    "collapsed": true
   },
   "outputs": [],
   "source": [
    "# save the decoder weights for later use\n",
    "model.save_weights('decoder_weights.h5')"
   ]
  },
  {
   "cell_type": "code",
   "execution_count": null,
   "metadata": {
    "collapsed": true
   },
   "outputs": [],
   "source": []
  }
 ],
 "metadata": {
  "anaconda-cloud": {},
  "kernelspec": {
   "display_name": "Python 2",
   "language": "python",
   "name": "python2"
  },
  "language_info": {
   "codemirror_mode": {
    "name": "ipython",
    "version": 2
   },
   "file_extension": ".py",
   "mimetype": "text/x-python",
   "name": "python",
   "nbconvert_exporter": "python",
   "pygments_lexer": "ipython2",
   "version": "2.7.11"
  }
 },
 "nbformat": 4,
 "nbformat_minor": 0
}
